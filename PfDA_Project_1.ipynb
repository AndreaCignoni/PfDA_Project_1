{
 "cells": [
  {
   "cell_type": "markdown",
   "metadata": {},
   "source": [
    "# **A Guide for original Soul 45 record collectors**"
   ]
  },
  {
   "cell_type": "markdown",
   "metadata": {},
   "source": [
    " <div align=\"justify\">\n",
    " \n",
    " Vinyl records have made a remarkable comeback in recent years with auctions reaching astonishing amounts and more and more people chasing after their much craved, rare and envied 45s or LPs for long hours. The resurgence of vinyl has led to a renewed interest in record collecting and has significantly impacted the music industry. But how can a simple music lover learn to give a likely value to the records they own or you wish to purchase?\n",
    "\n",
    " A combination of factors can make a given record valuable. My work will focus on the three firm parameters available to all connoisseurs to consult, namely *Vinyl Scarcity*, *Record condition*, *Auction Results*, all of which necessary to identify the fourth and most unpredictable variable, how much each piece of vinyl is IN DEMAND. Only when all these parameters are clear enough, a potential buyer or seller may aspire to set the right price that will respond to the above question.\n",
    "\n",
    " </div>\n"
   ]
  },
  {
   "cell_type": "markdown",
   "metadata": {},
   "source": [
    " <div align=\"justify\">\n",
    "\n",
    "## Types of Variables involved\n",
    "\n",
    "\n",
    "1. **Theoretical Price according to Vinyl Scarcity 2020:**\n",
    "\n",
    "   Create a dataset with 10 segments of theoretical prices as you've described, ranging from $20 to $2000 and corresponding scarcity values based on the number of copies.\n",
    "\n",
    "2. **Record Condition Factor:**\n",
    "\n",
    "   For each entry in the dataset, assign a record condition factor. You can generate random values based on a probability distribution that matches the condition categories:\n",
    "   \n",
    "   - Poor, Good = 0.5 multiplier (e.g., randomly assign 0.5 or 1 for each entry)\n",
    "   - Very Good, Near Mint = 1.5 multiplier (e.g., randomly assign 1.5 or 1 for each entry)\n",
    "\n",
    "3. **Genre:**\n",
    "\n",
    "   Create a column for the \"Genre\" variable and assign \"True\" or \"False\" values for each entry based on whether it's a NOrthern Soul (True) or Soul (False) genre.\n",
    "\n",
    "4. **2021 Auction Results:**\n",
    "\n",
    " </div>"
   ]
  }
 ],
 "metadata": {
  "language_info": {
   "name": "python"
  },
  "orig_nbformat": 4
 },
 "nbformat": 4,
 "nbformat_minor": 2
}
